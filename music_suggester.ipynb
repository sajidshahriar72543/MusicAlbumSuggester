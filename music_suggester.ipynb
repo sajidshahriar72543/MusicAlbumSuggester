{
 "cells": [
  {
   "cell_type": "code",
   "execution_count": null,
   "id": "eefb506f",
   "metadata": {},
   "outputs": [],
   "source": []
  }
 ],
 "metadata": {
  "kernelspec": {
   "display_name": "Python 3 (ipykernel)",
   "language": "python",
   "name": "python3"
  },
  "language_info": {
   "codemirror_mode": {
    "name": "ipython",
    "version": 3
   },
   "file_extension": ".py",
   "mimetype": "text/x-python",
   "name": "python",
   "nbconvert_exporter": "python",
   "pygments_lexer": "ipython3",
   "version": "3.9.13"
  },
  "vscode": {
   "interpreter": {
    "hash": "50c78d17bcedfd938555e13b4d45843b20a878698c0c32d505deeb7e4a1ca45c"
   }
  }
 },
 "nbformat": 4,
 "nbformat_minor": 5
}
